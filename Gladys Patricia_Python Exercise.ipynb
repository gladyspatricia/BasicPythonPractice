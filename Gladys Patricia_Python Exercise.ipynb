{
 "cells": [
  {
   "cell_type": "markdown",
   "metadata": {},
   "source": [
    "# Latihan Soal Untuk bahasa pemograman python\n",
    "__________________________\n",
    "\n",
    "Pada Pelatihan ini audience mengerjakan soal-soal yang ada dibawah ini untuk melatih logika berfikir dan penyesuaian sintaks.\n",
    "\n",
    "Terdapat 14 soal (cases) yang perlu diselesaikan dalam waktu 90 menit.\n"
   ]
  },
  {
   "cell_type": "markdown",
   "metadata": {},
   "source": [
    "****************************\n",
    "# Latihan Structure data \n",
    "### Total : 4 Soal\n",
    "---------\n",
    "### Tugas 1 : Sorting `List`\n",
    "Diketahui sebuah list\n",
    "\n",
    "```\n",
    "l = [11,2,5,23,15,8,7,6,19,21,18]\n",
    "```\n",
    "Buat sebuah program yang mencetak nilai terkecil dan nilai terbesar pada list\n"
   ]
  },
  {
   "cell_type": "code",
   "execution_count": 37,
   "metadata": {},
   "outputs": [
    {
     "name": "stdout",
     "output_type": "stream",
     "text": [
      "[2, 5, 6, 7, 8, 11, 15, 18, 19, 21, 23]\n"
     ]
    }
   ],
   "source": [
    "angka = [11,2,5,23,15,8,7,6,19,21,18]\n",
    "angka.sort()\n",
    "print(angka)"
   ]
  },
  {
   "cell_type": "markdown",
   "metadata": {},
   "source": [
    "_______________\n",
    "### Tugas 2 : Dictionary\n",
    "\n",
    "https://www.w3resource.com/python-exercises/string/python-data-type-string-exercise-2.php\n",
    "\n",
    "\n",
    "Tulis program Python untuk membuat kamus dari string. Pergi ke editor\n",
    "\n",
    "__Catatan:__  Hitung jumlah huruf dari `string`\n",
    "\n",
    "Contoh `string`: 'G-Incubation'\n",
    "\n",
    "Keluaran yang diharapkan:\n",
    "```\n",
    "{'G': 1, '-': 1, 'I': 1, 'n': 2, 'c': 1, 'u': 1, 'b': 1, 'a': 1, 't': 1, 'i': 1, 'o': 1}\n",
    "```"
   ]
  },
  {
   "cell_type": "code",
   "execution_count": 38,
   "metadata": {},
   "outputs": [
    {
     "name": "stdout",
     "output_type": "stream",
     "text": [
      "{'G': 1, '-': 1, 'I': 1, 'n': 2, 'c': 1, 'u': 1, 'b': 1, 'a': 1, 't': 1, 'i': 1, 'o': 1}\n"
     ]
    }
   ],
   "source": [
    "def char_frequency(str1):\n",
    "    dict = {}\n",
    "    for n in str1: #pengecekan setiap huruf\n",
    "        keys = dict.keys() #keys mengetahui jumlah data yg ada di dic\n",
    "        if n in keys:\n",
    "            dict[n] += 1\n",
    "        else:\n",
    "            dict[n] = 1\n",
    "    return dict\n",
    "\n",
    "print(char_frequency(\"G-Incubation\"))"
   ]
  },
  {
   "cell_type": "markdown",
   "metadata": {},
   "source": [
    "______________\n",
    "### Tugas 3 : Tuple\n",
    "https://www.w3resource.com/python-exercises/tuple/python-tuple-exercise-33.php\n",
    "\n",
    "Tulis program Python untuk mengonversi `list` of tupel yang diberikan di ubah ke `lisf of list`il \n",
    "\n",
    "##### Hasil Keluaran\n",
    "```\n",
    "list of  tupel : [(1, 2), (2, 3), (3, 4)]\n",
    "Ubah daftar tupel tersebut menjadi daftar daftar: [[1, 2], [2, 3], [3, 4]]\n",
    "\n",
    "Daftar tupel asli: [(1, 2), (2, 3, 5), (3, 4), (2, 3, 4, 2)]\n",
    "Ubah daftar tupel tersebut menjadi daftar daftar: [[1, 2], [2, 3, 5], [3, 4], [2, 3, 4, 2]]\n",
    "\n",
    "```"
   ]
  },
  {
   "cell_type": "code",
   "execution_count": 39,
   "metadata": {},
   "outputs": [
    {
     "name": "stdout",
     "output_type": "stream",
     "text": [
      "List of tupel: \n",
      "[(1, 2), (2, 3), (3, 4)]\n",
      "Ubah daftar tupel tersebut menjadi daftar daftar: \n",
      "[[1, 2], [2, 3], [3, 4]]\n",
      "Daftar tupel asli: \n",
      "[(1, 2), (2, 3, 5), (3, 4), (2, 3, 4, 2)]\n",
      "Ubah daftar tupel tersebut menjadi daftar daftar: \n",
      "[[1, 2], [2, 3, 5], [3, 4], [2, 3, 4, 2]]\n"
     ]
    }
   ],
   "source": [
    "def test(lst_tuples):\n",
    "    result = [list(el) for el in lst_tuples]\n",
    "    return result\n",
    "\n",
    "lst_tuples = [(1,2), (2,3), (3,4)]\n",
    "print(\"List of tupel: \")\n",
    "print(lst_tuples)\n",
    "print(\"Ubah daftar tupel tersebut menjadi daftar daftar: \")\n",
    "print(test(lst_tuples))\n",
    "\n",
    "lst_tuples = [(1, 2), (2, 3, 5), (3, 4), (2, 3, 4, 2)]\n",
    "print(\"Daftar tupel asli: \")\n",
    "print(lst_tuples)\n",
    "print(\"Ubah daftar tupel tersebut menjadi daftar daftar: \")\n",
    "print(test(lst_tuples))"
   ]
  },
  {
   "cell_type": "markdown",
   "metadata": {},
   "source": [
    "---------------\n",
    "### Tugas 4 : Sets \n",
    "Diketahui dua buah list :\n",
    "\n",
    "```\n",
    "a = [1, 1, 2, 3, 5, 8, 13, 21, 34, 55, 89]\n",
    "b = [1, 2, 3, 4, 5, 6, 7, 8, 9, 10, 11, 12, 13]\n",
    "```\n",
    "\n",
    "Buat program yang mencetak hanya bilangan yang ada pada kedua list tersebut, setiap bilangan dicetak hanya sekali."
   ]
  },
  {
   "cell_type": "code",
   "execution_count": 40,
   "metadata": {},
   "outputs": [
    {
     "data": {
      "text/plain": [
       "[1, 2, 3, 5, 8, 13]"
      ]
     },
     "execution_count": 40,
     "metadata": {},
     "output_type": "execute_result"
    }
   ],
   "source": [
    "a = [1, 1, 2, 3, 5, 8, 13, 21, 34, 55, 89]\n",
    "b = [1, 2, 3, 4, 5, 6, 7, 8, 9, 10, 11, 12, 13]\n",
    "\n",
    "c = list(set(a).intersection(set(b)))\n",
    "c"
   ]
  },
  {
   "cell_type": "markdown",
   "metadata": {},
   "source": [
    "___________________________\n",
    "# Latihan logika dengan python  `if-else`\n",
    "### Total : 4 Soal\n",
    "\n",
    "> semakin banyak contoh kasus yang kita selesaikan maka logika kita akan semakin terlatih untuk memecahkan suatu permasalahan pemrograman.\n",
    "\n",
    "--------\n",
    "\n",
    "### Tugas 1 :  Cara Menukarkan Dua Variabel\n",
    "\n",
    "##### Skenario Kasus\n",
    "Terdapat 2 buah variabel: 'a' dan 'b'.\n",
    "\n",
    "Keduanya memiliki masing-masing nilai awal.\n",
    "\n",
    "Pertanyaannya adalah: bagaimana cara menukarkan isi dari kedua variabel tersebut?\n",
    "\n",
    "#### Hasil Keluaran\n",
    "\n",
    "```\n",
    "[nilai awal]\n",
    "gelas_a = kopi, gelas_b = teh\n",
    "\n",
    "[nilai akhir]\n",
    "gelas_a = teh, gelas_b = kopi\n",
    "```\n"
   ]
  },
  {
   "cell_type": "code",
   "execution_count": 41,
   "metadata": {},
   "outputs": [
    {
     "name": "stdout",
     "output_type": "stream",
     "text": [
      "[nilai awal]\n",
      "gelas_a = kopi\n",
      "gelas_b = teh\n",
      "[nilai akhir]\n",
      "gelas_a = teh\n",
      "gelas_b = kopi\n"
     ]
    }
   ],
   "source": [
    "#Asli\n",
    "gelas_a = \"kopi\"\n",
    "gelas_b = \"teh\"\n",
    "\n",
    "print(\"[nilai awal]\")\n",
    "print(f\"gelas_a = {gelas_a}\")\n",
    "print(f\"gelas_b = {gelas_b}\")\n",
    "\n",
    "#Tukar\n",
    "temp = gelas_a\n",
    "gelas_a = gelas_b\n",
    "gelas_b = temp\n",
    "\n",
    "print(\"[nilai akhir]\")\n",
    "print(f\"gelas_a = {gelas_a}\")\n",
    "print(f\"gelas_b = {gelas_b}\")"
   ]
  },
  {
   "cell_type": "markdown",
   "metadata": {},
   "source": [
    "---------\n",
    "\n",
    "###  Tugas 2 : Bilangan Ganjil/Genap\n",
    "\n",
    "Buatlah program yang menanyakan sebuah bilangan kepada user. Program kemudian memunculkan apakah bilangan yang dimasukkan itu genap atau ganjil.\n",
    "\n",
    "\n",
    "__Noted__ : Untuk menerima masukkan dari user Gunakan code ini \n",
    "\n",
    "``` python\n",
    "\n",
    "a= input('Masukkan sebuah bilangan:  ')' , # dimana a merupakan varibel penerima masukan dari user\n",
    "```\n",
    "#### Contoh Keluaran\n",
    "> Anda memasukkan bilangan 10, 10 adalah bilangan genap\n",
    "\n"
   ]
  },
  {
   "cell_type": "code",
   "execution_count": 43,
   "metadata": {},
   "outputs": [
    {
     "name": "stdout",
     "output_type": "stream",
     "text": [
      "Masukkan sebuah bilangan: 9\n",
      "Anda memasukkan bilangan 9\n",
      "9 adalah bilangan ganjil\n"
     ]
    }
   ],
   "source": [
    "a = input(\"Masukkan sebuah bilangan: \")\n",
    "nilai = int(a)\n",
    "\n",
    "print(f\"Anda memasukkan bilangan {nilai}\")\n",
    "if(nilai%2==0):\n",
    "    print(f\"{nilai} adalah bilangan genap\")\n",
    "else:\n",
    "    print(f\"{nilai} adalah bilangan ganjil\")"
   ]
  },
  {
   "cell_type": "markdown",
   "metadata": {},
   "source": [
    "________________\n",
    "###  Tugas 3 : Perbandingan `String`\n",
    "\n",
    "#### Skenario Kasus\n",
    "Buat sebuah program berupa permainan gunting batu kertas yang dapat dimainkan oleh dua orang. Kedua pemain menginput pilihan masing-masing __(gunting/batu/kertas)__, kemudian komputer melakukan perbandingan untuk melihat dan menampilkan siapa yang menang.\n",
    "\n",
    "\n",
    "> (catatan: untuk menyembunyikan input dari user, dapat digunakan fungsi *getpass()* dan untuk input user gunakkan fungsi *input()* )\n"
   ]
  },
  {
   "cell_type": "code",
   "execution_count": 46,
   "metadata": {},
   "outputs": [
    {
     "name": "stdout",
     "output_type": "stream",
     "text": [
      "player 1 (gunting / batu / kertas) : gunting\n",
      "player 2 (gunting / batu / kertas) : gunting\n",
      "hasil:\n",
      "player 1: gunting, player 2: gunting. permainan seri\n"
     ]
    }
   ],
   "source": [
    "player1 = input(\"player 1 (gunting / batu / kertas) : \")\n",
    "player2 = input(\"player 2 (gunting / batu / kertas) : \")\n",
    "\n",
    "if(player1 == \"gunting\" and player2 == \"batu\"):\n",
    "    print(\"hasil:\")\n",
    "    print(f\"player 1: {player1}, player 2: {player2}. player 2 menang\")\n",
    "elif(player1 == \"gunting\" and player2 == \"kertas\"):\n",
    "    print(\"hasil:\")\n",
    "    print(f\"player 1: {player1}, player 2: {player2}. player 1 menang\")\n",
    "elif(player1 == \"gunting\" and player2 == \"gunting\"):\n",
    "    print(\"hasil:\")\n",
    "    print(f\"player 1: {player1}, player 2: {player2}. permainan seri\")\n",
    "elif(player1 == \"batu\" and player2 == \"batu\"):\n",
    "    print(\"hasil:\")\n",
    "    print(f\"player 1: {player1}, player 2: {player2}. permainan seri\")\n",
    "elif(player1 == \"batu\" and player2 == \"kertas\"):\n",
    "    print(\"hasil:\")\n",
    "    print(f\"player 1: {player1}, player 2: {player2}. player 2 menang\")\n",
    "elif(player1 == \"batu\" and player2 == \"gunting\"):\n",
    "    print(\"hasil:\")\n",
    "    print(f\"player 1: {player1}, player 2: {player2}. player 1 menang\")\n",
    "elif(player1 == \"kertas\" and player2 == \"batu\"):\n",
    "    print(\"hasil:\")\n",
    "    print(f\"player 1: {player1}, player 2: {player2}. player 1 menang\")\n",
    "elif(player1 == \"kertas\" and player2 == \"gunting\"):\n",
    "    print(\"hasil:\")\n",
    "    print(f\"player 1: {player1}, player 2: {player2}. player 2 menang\")\n",
    "elif(player1 == \"kertas\" and player2 == \"kertas\"):\n",
    "    print(\"hasil:\")\n",
    "    print(f\"player 1: {player1}, player 2: {player2}. permainan seri\")\n",
    "else:\n",
    "    print(\"input dengan benar\")"
   ]
  },
  {
   "cell_type": "markdown",
   "metadata": {},
   "source": [
    "---------\n",
    "\n",
    "###  Tugas 4 : Mengukur Berat Badan\n",
    "https://koding.alza.web.id/latihan-soal-percabangan/\n",
    "##### Skenario Kasus\n",
    "BMI (Body Mass Index) adalah salah satu cara untuk menentukan apakah seseorang bertubuh gemuk, langsing, atau kurus berdasarkan hasil bagi massa tubuh (kilogram) dengan tinggi badan (meter) kuadrat.\n",
    "\n",
    "Nilai BMI di bawah 18.5 berarti terlalu kurus, langsing/sehat pada rentang 18.5 s.d di bawah 25, 25+ tergolong gemuk.\n",
    "\n",
    "Buatlah sebuah program yang menanyakan berapa berat badan seseoarang (dalam kg), dan berapa tingginya (dalam cm, 1m = 100 cm), kemudian hitung nilai BMInya. Setelah nilai BMI didapatkan, cetak nilai BMI dan apakah orang tersebut termasuk kurus, langsing, atau gemuk. Lihat contoh output berikut untuk lebih jelasnya.\n",
    "\n",
    "##### Hasil Keluaran :\n",
    "```\n",
    "Masukkan berat badan anda (kg): 65\n",
    "Masukkan tinggi badan anda (cm): 172\n",
    "Nilai BMI anda adalah 21,9713\n",
    "Anda termasuk berbadan langsing\n",
    "```"
   ]
  },
  {
   "cell_type": "code",
   "execution_count": 51,
   "metadata": {},
   "outputs": [
    {
     "name": "stdout",
     "output_type": "stream",
     "text": [
      "Masukkan berat badan anda (kg): 65\n",
      "Masukkan tinggi badan anda (cm): 172\n",
      "Anda termasuk berbadan sehat\n",
      "Nilai BMI anda adalah 21.9713\n"
     ]
    }
   ],
   "source": [
    "berat = int(input(\"Masukkan berat badan anda (kg): \"))\n",
    "tinggi = int(input(\"Masukkan tinggi badan anda (cm): \"))/100\n",
    "\n",
    "bmi = 0\n",
    "\n",
    "def hitungBMI(bb, tb):\n",
    "    bmi = bb/(tb**2)\n",
    "    if(bmi < 18.5):\n",
    "        print(\"Anda terlalu kurus\")\n",
    "    elif(bmi >= 25):\n",
    "        print(\"Anda terlalu gemuk\")\n",
    "    else:\n",
    "        print(\"Anda termasuk berbadan sehat\")\n",
    "    print(f\"Nilai BMI anda adalah {round(bmi, 4)}\")\n",
    "        \n",
    "hitungBMI(berat, tinggi)"
   ]
  },
  {
   "cell_type": "markdown",
   "metadata": {},
   "source": [
    " __________________________\n",
    "# Latihan Perulangan \n",
    "\n",
    "### Total : 5 Soal\n",
    "------------\n",
    "\n",
    "### Tugas 1 : Mencari Nilai Maksimum dan Minimum dengan Perulangan (For dan Rekursif) \n",
    "\n",
    "https://replit.com/@Aswian_EditriEd/Percabangan-if-elif-else-Body-Mass-Index\n",
    "\n",
    "##### Skenario kasus : \n",
    "mencari nilai terbesar, terkecil, dan nilai tengah dari 3 buah angka solusinya bisa hanya menggunakan percabangan if-else saja.\n",
    "\n",
    "Tapi, bagaimana jika angkanya ada 7? Atau ada 8? Atau 100?\n",
    "\n",
    "Tidak mungkin membuat percabangan if-else sebanyak itu. Oleh karena itu, kita akan mencari solusi lain yang lebih dinamis.\n",
    "\n",
    "Buatlah program untuk memilih nilai terbasar dan terkecil dari `list` menggunakan 2 cara :\n",
    "1. min(), max()\n",
    "2. menggunakan perulangan for atau rekursif\n",
    "\n",
    "##### Hasil Keluaran :\n",
    "```\n",
    "[3, 20, 100, -35, 50]\n",
    "Nilai terbesar: 100\n",
    "Nilai terkecil: -35\n",
    "```\n"
   ]
  },
  {
   "cell_type": "code",
   "execution_count": 52,
   "metadata": {},
   "outputs": [
    {
     "name": "stdout",
     "output_type": "stream",
     "text": [
      "Nilai terbesar: -35\n",
      "Nilai terbesar: 100\n"
     ]
    }
   ],
   "source": [
    "x = [3, 20, 100, -35, 50]\n",
    "print(f\"Nilai terbesar: {min(x)}\")\n",
    "print(f\"Nilai terbesar: {max(x)}\")"
   ]
  },
  {
   "cell_type": "markdown",
   "metadata": {},
   "source": [
    "### Tugas 2 : Menghapus Nilai list sampai kosong\n",
    "\n",
    "https://www.w3resource.com/python-exercises/basic/python-basic-1-exercise-3.php\n",
    "\n",
    "Tulis program Python untuk menghapus dan mencetak setiap angka ketiga dari `list` angka hingga daftar menjadi kosong.\n",
    "\n",
    "__Contoh masukan__ : [10,20,30,40,50,60,70,80,90]]\n",
    "##### Hasil Keluaran\n",
    "```\n",
    "\n",
    "30\n",
    "60\n",
    "90\n",
    "40\n",
    "80\n",
    "50\n",
    "20\n",
    "70\n",
    "10\n",
    "\n",
    "```"
   ]
  },
  {
   "cell_type": "code",
   "execution_count": 53,
   "metadata": {},
   "outputs": [
    {
     "name": "stdout",
     "output_type": "stream",
     "text": [
      "Data yang dihapus:\n",
      "30\n",
      "60\n",
      "90\n",
      "40\n",
      "80\n",
      "50\n",
      "20\n",
      "70\n",
      "10\n",
      "Isi list_angka setelah penghapusan:\n",
      "[]\n"
     ]
    }
   ],
   "source": [
    "list_angka = [10,20,30,40,50,60,70,80,90]\n",
    "\n",
    "def remove_angka(list_angka):\n",
    "    position = 3 - 1\n",
    "    idx = 0\n",
    "    len_list = (len(list_angka))\n",
    "    while len_list>0:\n",
    "        idx = (position+idx)%len_list\n",
    "        print(list_angka.pop(idx))\n",
    "        len_list -= 1\n",
    "\n",
    "print(\"Data yang dihapus:\")\n",
    "remove_angka(list_angka)\n",
    "\n",
    "print(\"Isi list_angka setelah penghapusan:\")\n",
    "print(list_angka)"
   ]
  },
  {
   "cell_type": "markdown",
   "metadata": {},
   "source": [
    "-----------\n",
    "\n",
    "### Tugas 3 : Program Bintang 1\n",
    "\n",
    "https://codesaya.com/a/tutorial-membuat-segitiga-dengan-python-versi-bintang-mxzpdhnhux/\n",
    "\n",
    "Tulis program Python untuk membuat pola berikut, menggunakan loop for bersarang.\n",
    "\n",
    "         * \n",
    "         *  * \n",
    "         *  *  * \n",
    "         *  *  *  * \n",
    "         *  *  *  *  * \n",
    "         *  *  *  *  *  * \n",
    "         *  *  *  *  *  *  * \n",
    "         *  *  *  *  *  *  *  * \n",
    "         *  *  *  *  *  *  *  *  * \n",
    "         *  *  *  *  *  *  *  *  *  * \n"
   ]
  },
  {
   "cell_type": "code",
   "execution_count": 54,
   "metadata": {},
   "outputs": [
    {
     "name": "stdout",
     "output_type": "stream",
     "text": [
      " * \n",
      " *  * \n",
      " *  *  * \n",
      " *  *  *  * \n",
      " *  *  *  *  * \n",
      " *  *  *  *  *  * \n",
      " *  *  *  *  *  *  * \n",
      " *  *  *  *  *  *  *  * \n",
      " *  *  *  *  *  *  *  *  * \n",
      " *  *  *  *  *  *  *  *  *  * \n",
      "\n"
     ]
    }
   ],
   "source": [
    "string = \"\"\n",
    "i = 1\n",
    "x = 10\n",
    "\n",
    "while i <= x:\n",
    "    j = i\n",
    "    while j > 0:\n",
    "        string = string + \" * \"\n",
    "        j = j - 1\n",
    "    string = string + \"\\n\"\n",
    "    i = i + 1\n",
    "\n",
    "print(string)"
   ]
  },
  {
   "cell_type": "markdown",
   "metadata": {},
   "source": [
    " ----------\n",
    "### Tugas 4 : Program Bintang 2\n",
    "\n",
    "https://codesaya.com/a/tutorial-membuat-segitiga-dengan-python-versi-bintang-mxzpdhnhux/\n",
    "\n",
    "Tulis program Python untuk membuat pola berikut, menggunakan loop for bersarang.\n",
    "\n",
    "\n",
    "```\n",
    "\n",
    " *  *  *  *  *  *  *  *  *  *  *  *  *  *  *  *  *  *  * \n",
    "\n",
    "    *  *  *  *  *  *  *  *  *  *  *  *  *  *  *  *  * \n",
    "\n",
    "       *  *  *  *  *  *  *  *  *  *  *  *  *  *  * \n",
    "\n",
    "          *  *  *  *  *  *  *  *  *  *  *  *  * \n",
    "\n",
    "             *  *  *  *  *  *  *  *  *  *  * \n",
    "\n",
    "                *  *  *  *  *  *  *  *  * \n",
    "\n",
    "                   *  *  *  *  *  *  * \n",
    "\n",
    "                      *  *  *  *  * \n",
    "\n",
    "                         *  *  * \n",
    "\n",
    "                            * \n",
    "```\n"
   ]
  },
  {
   "cell_type": "code",
   "execution_count": 55,
   "metadata": {},
   "outputs": [
    {
     "name": "stdout",
     "output_type": "stream",
     "text": [
      "\n",
      "\n",
      " *  *  *  *  *  *  *  *  *  *  *  *  *  *  *  *  *  *  * \n",
      "\n",
      "    *  *  *  *  *  *  *  *  *  *  *  *  *  *  *  *  * \n",
      "\n",
      "       *  *  *  *  *  *  *  *  *  *  *  *  *  *  * \n",
      "\n",
      "          *  *  *  *  *  *  *  *  *  *  *  *  * \n",
      "\n",
      "             *  *  *  *  *  *  *  *  *  *  * \n",
      "\n",
      "                *  *  *  *  *  *  *  *  * \n",
      "\n",
      "                   *  *  *  *  *  *  * \n",
      "\n",
      "                      *  *  *  *  * \n",
      "\n",
      "                         *  *  * \n",
      "\n",
      "                            * \n",
      "\n",
      "\n"
     ]
    }
   ],
   "source": [
    "string = \"\"\n",
    "i = 1\n",
    "x = 10\n",
    "\n",
    "print (\"\\n\")\n",
    "# Looping Baris\n",
    "while i <= x:\n",
    "    j = i\n",
    "    # Looping Kolom Spasi Kosong\n",
    "    while j > 1:\n",
    "        string = string + \"   \"\n",
    "        j = j - 1\n",
    "    # Looping Kolom Bintang Sisi Kiri\n",
    "    kiri = 0\n",
    "    while kiri <= (x - i):\n",
    "        string = string + \" * \"\n",
    "        kiri = kiri + 1\n",
    "    # Looping Kolom Bintang Sisi Kanan\n",
    "    kanan = kiri\n",
    "    while kanan > 1:\n",
    "        string = string + \" * \"\n",
    "        kanan = kanan - 1\n",
    "\n",
    "    string = string + \"\\n\\n\"\n",
    "    i = i + 1\n",
    "print (string)"
   ]
  },
  {
   "cell_type": "markdown",
   "metadata": {},
   "source": [
    "_______________________________\n",
    "### Tugas 5 : Program Menghitung Huruf Vokal\n",
    "https://jagongoding.com/python/latihan-logika/menghitung-huruf-vokal/#skenario-kasus\n",
    "\n",
    "#### Skenario Kasus\n",
    "Alur programnya;\n",
    "\n",
    "1. Program  akan minta user untuk memasukkan sebuah teks\n",
    "2. Kemudian program akan menampilkan jumlah huruf vokal pada teks tersebut\n",
    "\n",
    "#### Contoh Keluaran\n",
    "```\n",
    "Tuliskan teks; Indonesia Adalah Negeri Sejuta Pulau\n",
    "Total karakter: 36\n",
    "Total huruf vokal: 17\n",
    "  a -> 6\n",
    "  i -> 3\n",
    "  u -> 3\n",
    "  e -> 4\n",
    "  o -> 1\n",
    " ```\n",
    "  \n"
   ]
  },
  {
   "cell_type": "code",
   "execution_count": 57,
   "metadata": {},
   "outputs": [
    {
     "name": "stdout",
     "output_type": "stream",
     "text": [
      "Tuliskan teks: Indonesia Adalah Negeri Sejuta Pulau\n",
      "Total karakter: 36\n",
      "Total huruf vokal: 17\n",
      "  a -> 6\n",
      "  i -> 3\n",
      "  u -> 3\n",
      "  e -> 4\n",
      "  o -> 1\n"
     ]
    }
   ],
   "source": [
    "teks = input(\"Tuliskan teks: \").lower()\n",
    "total_karakter = 0\n",
    "total_huruf_vokal = 0\n",
    "huruf_vokal = {\n",
    "  'a': 0,\n",
    "  'i': 0,\n",
    "  'u': 0,\n",
    "  'e': 0,\n",
    "  'o': 0\n",
    "}\n",
    "\n",
    "for karakter in teks:\n",
    "    if karakter in ['a', 'i', 'u', 'e',  'o']:\n",
    "        huruf_vokal[karakter] += 1\n",
    "        total_huruf_vokal += 1\n",
    "    total_karakter += 1\n",
    "        \n",
    "print(f\"Total karakter: {total_karakter}\")\n",
    "print(f\"Total huruf vokal: {total_huruf_vokal}\")\n",
    "print(f\"\"\"\\\n",
    "  a -> {huruf_vokal['a']}\n",
    "  i -> {huruf_vokal['i']}\n",
    "  u -> {huruf_vokal['u']}\n",
    "  e -> {huruf_vokal['e']}\n",
    "  o -> {huruf_vokal['o']}\\\n",
    "\"\"\")"
   ]
  }
 ],
 "metadata": {
  "kernelspec": {
   "display_name": "Python 3",
   "language": "python",
   "name": "python3"
  },
  "language_info": {
   "codemirror_mode": {
    "name": "ipython",
    "version": 3
   },
   "file_extension": ".py",
   "mimetype": "text/x-python",
   "name": "python",
   "nbconvert_exporter": "python",
   "pygments_lexer": "ipython3",
   "version": "3.8.5"
  }
 },
 "nbformat": 4,
 "nbformat_minor": 5
}
